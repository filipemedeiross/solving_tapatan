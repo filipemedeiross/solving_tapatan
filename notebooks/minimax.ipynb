{
 "cells": [
  {
   "cell_type": "markdown",
   "id": "881a3fc7",
   "metadata": {},
   "source": [
    "# MINIMAX ALGORITHM"
   ]
  },
  {
   "cell_type": "markdown",
   "id": "a28b1635-9e16-49f2-9473-7d7dfbfaa583",
   "metadata": {
    "jp-MarkdownHeadingCollapsed": true
   },
   "source": [
    "## PREPARING THE DEVELOPMENT ENVIRONMENT"
   ]
  },
  {
   "cell_type": "markdown",
   "id": "02f1cdab-796c-453a-9a15-68944b55a09d",
   "metadata": {},
   "source": [
    "Including path to previous directory in built-in variable `sys.path`, allowing access to the `tapatan` package:"
   ]
  },
  {
   "cell_type": "code",
   "execution_count": 1,
   "id": "cf8ba6d6-cc02-47fc-bf60-abaf84c4fb18",
   "metadata": {},
   "outputs": [],
   "source": [
    "import sys\n",
    "\n",
    "sys.path.append('../')"
   ]
  },
  {
   "cell_type": "markdown",
   "id": "1a65eccb-ca04-4555-8a11-438da062f5e4",
   "metadata": {},
   "source": [
    "Importing the libraries:"
   ]
  },
  {
   "cell_type": "code",
   "execution_count": 2,
   "id": "7e7cffe2",
   "metadata": {},
   "outputs": [],
   "source": [
    "import numpy as np\n",
    "import pandas as pd\n",
    "import seaborn as sns\n",
    "import matplotlib.pyplot as plt\n",
    "\n",
    "from random import choice\n",
    "from IPython.display import clear_output\n",
    "\n",
    "from tapatan.constants import BLACK, WHITE\n",
    "from tapatan.logic_game import TapatanGrid\n",
    "from tapatan.formulations import new_grid,  \\\n",
    "                                 get_moves, \\\n",
    "                                 move, win"
   ]
  },
  {
   "cell_type": "markdown",
   "id": "6200a07e-57c1-4e1d-bf4c-a35ddb48c142",
   "metadata": {},
   "source": [
    "Declaring auxiliary functions:"
   ]
  },
  {
   "cell_type": "code",
   "execution_count": 3,
   "id": "e4c4b598",
   "metadata": {},
   "outputs": [],
   "source": [
    "def display_grid(grid):\n",
    "    return '  -  '.join(map(str, grid[0])) + '\\n' + \\\n",
    "           '|  \\  |  /  |'                 + '\\n' + \\\n",
    "           '  -  '.join(map(str, grid[1])) + '\\n' + \\\n",
    "           '|  /  |  \\  |'                 + '\\n' + \\\n",
    "           '  -  '.join(map(str, grid[2]))\n",
    "\n",
    "def get_state(grid, user, start, final):\n",
    "    state = grid.copy()\n",
    "\n",
    "    state[start] = 0\n",
    "    state[final] = user\n",
    "\n",
    "    return state\n",
    "\n",
    "def evaluate(state):\n",
    "    \"\"\"\n",
    "    Evaluation function:\n",
    "     - White pieces (Max)\n",
    "     - Black pieces (Min)\n",
    "    :params:\n",
    "    state -> State of the game\n",
    "    :returns:\n",
    "    score -> Evaluation of the state\n",
    "    \"\"\"\n",
    "    if win(state, WHITE):\n",
    "        return +1\n",
    "    elif win(state, BLACK):\n",
    "        return -1\n",
    "\n",
    "    return 0"
   ]
  },
  {
   "cell_type": "markdown",
   "id": "f605f69c-106e-4b20-bdaf-a8cc8370c1cb",
   "metadata": {},
   "source": [
    "Testing the evaluation function:"
   ]
  },
  {
   "cell_type": "code",
   "execution_count": 4,
   "id": "cf341e7d",
   "metadata": {},
   "outputs": [],
   "source": [
    "grid_win  = new_grid()\n",
    "grid_lose = new_grid()\n",
    "grid_tie  = new_grid()\n",
    "\n",
    "move(grid_win, BLACK, (0, 0), (0, 1))\n",
    "move(grid_win, WHITE, (2, 2), (1, 1))\n",
    "move(grid_win, BLACK, (2, 0), (2, 1))\n",
    "move(grid_win, WHITE, (1, 0), (2, 0))\n",
    "\n",
    "move(grid_lose, BLACK, (2, 0), (1, 1))\n",
    "move(grid_lose, WHITE, (1, 0), (2, 0))\n",
    "move(grid_lose, BLACK, (0, 0), (1, 0))"
   ]
  },
  {
   "cell_type": "code",
   "execution_count": 5,
   "id": "1838d794-eab0-4fa7-9428-fa45c1228be3",
   "metadata": {},
   "outputs": [
    {
     "name": "stdout",
     "output_type": "stream",
     "text": [
      "Expected evaluation = 1\n",
      "Evaluation obtained = 1\n",
      "0  -  1  -  2\n",
      "|  \\  |  /  |\n",
      "0  -  2  -  1\n",
      "|  /  |  \\  |\n",
      "2  -  1  -  0\n",
      "\n",
      "Expected evaluation = -1\n",
      "Evaluation obtained = -1\n",
      "0  -  0  -  2\n",
      "|  \\  |  /  |\n",
      "1  -  1  -  1\n",
      "|  /  |  \\  |\n",
      "2  -  0  -  2\n",
      "\n",
      "Expected evaluation = 0\n",
      "Evaluation obtained = 0\n",
      "1  -  0  -  2\n",
      "|  \\  |  /  |\n",
      "2  -  0  -  1\n",
      "|  /  |  \\  |\n",
      "1  -  0  -  2\n"
     ]
    }
   ],
   "source": [
    "print('Expected evaluation = 1')\n",
    "print('Evaluation obtained =', evaluate(grid_win))\n",
    "print(display_grid(grid_win))\n",
    "\n",
    "print()\n",
    "\n",
    "print('Expected evaluation = -1')\n",
    "print('Evaluation obtained =', evaluate(grid_lose))\n",
    "print(display_grid(grid_lose))\n",
    "\n",
    "print()\n",
    "\n",
    "print('Expected evaluation = 0')\n",
    "print('Evaluation obtained =', evaluate(grid_tie))\n",
    "print(display_grid(grid_tie))"
   ]
  },
  {
   "cell_type": "markdown",
   "id": "393835cc",
   "metadata": {},
   "source": [
    "## MINIMAX SEARCH"
   ]
  },
  {
   "cell_type": "markdown",
   "id": "2f3f9561-8345-48eb-aeea-429be6c4d5b6",
   "metadata": {},
   "source": [
    "Creating the minimax algorithm:"
   ]
  },
  {
   "cell_type": "code",
   "execution_count": 6,
   "id": "38e264a2",
   "metadata": {},
   "outputs": [],
   "source": [
    "def minimax(state, depth):\n",
    "    return max_value(state, depth)\n",
    "\n",
    "def max_value(state, depth):\n",
    "    value = evaluate(state)\n",
    "\n",
    "    if value or not depth:\n",
    "        return value, None\n",
    "\n",
    "    max_eval = float('-inf')\n",
    "    for move in get_moves(state, WHITE):\n",
    "        eval, _ = min_value(get_state(state, WHITE, *move), depth-1)\n",
    "\n",
    "        if eval > max_eval:\n",
    "            max_eval, max_move = eval, move\n",
    "\n",
    "    return max_eval, max_move\n",
    "\n",
    "def min_value(state, depth):\n",
    "    value = evaluate(state)\n",
    "\n",
    "    if value or not depth:\n",
    "        return value, None\n",
    "\n",
    "    min_eval = float('inf')\n",
    "    for move in get_moves(state, BLACK):\n",
    "        eval, _ = max_value(get_state(state, BLACK, *move), depth-1)\n",
    "\n",
    "        if eval < min_eval:\n",
    "            min_eval, min_move = eval, move\n",
    "\n",
    "    return min_eval, min_move"
   ]
  },
  {
   "cell_type": "markdown",
   "id": "27a21e76-01fc-4e32-ab05-c3d210e70144",
   "metadata": {},
   "source": [
    "Testing minimax search in different scenarios:"
   ]
  },
  {
   "cell_type": "code",
   "execution_count": 7,
   "id": "6b7a0701-dd8c-4b19-a1ce-fe088089adc8",
   "metadata": {},
   "outputs": [],
   "source": [
    "DEPTH = 4\n",
    "\n",
    "grid1 = np.array([[1, 2, 0],\n",
    "                  [0, 2, 1],\n",
    "                  [2, 0, 1]])\n",
    "grid2 = np.array([[1, 0, 2],\n",
    "                  [2, 1, 1],\n",
    "                  [0, 0, 2]])\n",
    "grid3 = np.array([[2, 1, 0],\n",
    "                  [0, 2, 1],\n",
    "                  [0, 2, 1]])"
   ]
  },
  {
   "cell_type": "code",
   "execution_count": 8,
   "id": "9768f2d3",
   "metadata": {},
   "outputs": [
    {
     "name": "stdout",
     "output_type": "stream",
     "text": [
      "Evaluation obtained = 1\n",
      "1  -  2  -  0\n",
      "|  \\  |  /  |\n",
      "0  -  2  -  1\n",
      "|  /  |  \\  |\n",
      "2  -  0  -  1\n",
      "\n",
      "Expected movements:\n",
      "(0, 1) -> (0, 2)\n",
      "(2, 0) -> (2, 1)\n",
      "Movement obtained:\n",
      "(0, 1) -> (0, 2)\n"
     ]
    }
   ],
   "source": [
    "eval, (start, end) = minimax(grid1, DEPTH)\n",
    "\n",
    "print('Evaluation obtained =', eval)\n",
    "print(display_grid(grid1))\n",
    "\n",
    "print()\n",
    "\n",
    "print('Expected movements:')\n",
    "print('(0, 1) -> (0, 2)')\n",
    "print('(2, 0) -> (2, 1)')\n",
    "print('Movement obtained:')\n",
    "print(start, '->', end)"
   ]
  },
  {
   "cell_type": "code",
   "execution_count": 9,
   "id": "bbff5ae4",
   "metadata": {},
   "outputs": [
    {
     "name": "stdout",
     "output_type": "stream",
     "text": [
      "Evaluation obtained = 0\n",
      "1  -  0  -  2\n",
      "|  \\  |  /  |\n",
      "2  -  1  -  1\n",
      "|  /  |  \\  |\n",
      "0  -  0  -  2\n",
      "\n",
      "No expected movements:\n",
      "(2, 2) -> (2, 1)\n",
      "Movement obtained:\n",
      "(0, 2) -> (0, 1)\n"
     ]
    }
   ],
   "source": [
    "eval, (start, end) = minimax(grid2, DEPTH)\n",
    "\n",
    "print('Evaluation obtained =', eval)\n",
    "print(display_grid(grid2))\n",
    "\n",
    "print()\n",
    "\n",
    "print('No expected movements:')\n",
    "print('(2, 2) -> (2, 1)')\n",
    "print('Movement obtained:')\n",
    "print(start, '->', end)"
   ]
  },
  {
   "cell_type": "code",
   "execution_count": 10,
   "id": "b7a8f5f9",
   "metadata": {},
   "outputs": [
    {
     "name": "stdout",
     "output_type": "stream",
     "text": [
      "Evaluation obtained = 0\n",
      "2  -  1  -  0\n",
      "|  \\  |  /  |\n",
      "0  -  2  -  1\n",
      "|  /  |  \\  |\n",
      "0  -  2  -  1\n",
      "\n",
      "Expected movements:\n",
      "(1, 1) -> (0, 2)\n",
      "Movement obtained:\n",
      "(1, 1) -> (0, 2)\n"
     ]
    }
   ],
   "source": [
    "eval, (start, end) = minimax(grid3, DEPTH)\n",
    "\n",
    "print('Evaluation obtained =', eval)\n",
    "print(display_grid(grid3))\n",
    "\n",
    "print()\n",
    "\n",
    "print('Expected movements:')\n",
    "print('(1, 1) -> (0, 2)')\n",
    "print('Movement obtained:')\n",
    "print(start, '->', end)"
   ]
  },
  {
   "cell_type": "markdown",
   "id": "aba73643-9c75-4024-97f0-21a82872c290",
   "metadata": {},
   "source": [
    "Comparing the minimax search to a random agent and checking the behavior of the search depth parameter:\n",
    "\n",
    "- The search depths of `2`, `4`, `6` and `8` will be used\n",
    "- 20 games will be checked for each depth"
   ]
  },
  {
   "cell_type": "code",
   "execution_count": 11,
   "id": "452f5857-196f-4c2f-916c-3c4bab57a56f",
   "metadata": {},
   "outputs": [],
   "source": [
    "N = 20\n",
    "DEPTHS = [2, 4, 6, 8]\n",
    "\n",
    "wins_random  = 0\n",
    "wins_minimax = 0\n",
    "steps = dict()"
   ]
  },
  {
   "cell_type": "code",
   "execution_count": 12,
   "id": "68ebcaf9-f4df-4db7-990c-549688faaec7",
   "metadata": {},
   "outputs": [],
   "source": [
    "def random_move(grid, user):\n",
    "    return choice(get_moves(grid, user))\n",
    "\n",
    "def play_game(grid, user, depth):\n",
    "    steps = 0\n",
    "\n",
    "    while not grid.win(user):\n",
    "        steps += 1\n",
    "        user  = BLACK if user == WHITE else WHITE\n",
    "\n",
    "        if user == BLACK:\n",
    "            start, final = random_move(grid.grid, user)\n",
    "        else:\n",
    "            _, (start, final) = minimax(grid.grid, depth)\n",
    "\n",
    "        grid.move(user, start, final)\n",
    "\n",
    "    return steps, user"
   ]
  },
  {
   "cell_type": "code",
   "execution_count": 13,
   "id": "96480357-ee64-4dd6-8862-3c1e38589585",
   "metadata": {},
   "outputs": [],
   "source": [
    "for depth in DEPTHS:\n",
    "    stp = 0\n",
    "\n",
    "    for _ in range(N):\n",
    "        s, winner = play_game(TapatanGrid(), WHITE, depth)\n",
    "\n",
    "        stp += s\n",
    "        if winner == BLACK:\n",
    "            wins_random  += 1\n",
    "        else:\n",
    "            wins_minimax += 1\n",
    "\n",
    "    steps[depth] = stp / N"
   ]
  },
  {
   "cell_type": "code",
   "execution_count": 14,
   "id": "e63bbcb8-af79-499a-8e99-9f18265bffec",
   "metadata": {},
   "outputs": [
    {
     "data": {
      "image/png": "[encoded data removed]",
      "text/plain": [
       "<Figure size 640x480 with 1 Axes>"
      ]
     },
     "metadata": {},
     "output_type": "display_data"
    }
   ],
   "source": [
    "data_wins = pd.DataFrame({'agent' : ['Random', 'Minimax'],\n",
    "                          'wins'  : [wins_random, wins_minimax]})\n",
    "\n",
    "sns.barplot(data_wins, x='agent', y='wins')\n",
    "\n",
    "plt.xlabel('Agent')\n",
    "plt.ylabel('Wins')\n",
    "plt.title('Comparison Between Agents')\n",
    "\n",
    "plt.show()"
   ]
  },
  {
   "cell_type": "code",
   "execution_count": 15,
   "id": "63e0e239-4212-4d8b-a946-016e1fed9f01",
   "metadata": {},
   "outputs": [
    {
     "data": {
      "image/png": "[encoded data removed]",
      "text/plain": [
       "<Figure size 640x480 with 1 Axes>"
      ]
     },
     "metadata": {},
     "output_type": "display_data"
    }
   ],
   "source": [
    "data_depth = pd.DataFrame(steps.items(), columns=['depth', 'steps'])\n",
    "\n",
    "sns.barplot(data_depth, x='depth', y='steps')\n",
    "\n",
    "plt.xlabel('Maximum Search Depth')\n",
    "plt.ylabel('Average Steps')\n",
    "plt.title('Comparison of Maximum Search Depths')\n",
    "\n",
    "plt.show()"
   ]
  },
  {
   "cell_type": "markdown",
   "id": "c4d7c199",
   "metadata": {},
   "source": [
    "## GAME PROTOTYPE"
   ]
  },
  {
   "cell_type": "markdown",
   "id": "4e16bf18-69e2-4393-b992-47a52b3c70ff",
   "metadata": {},
   "source": [
    "Playing a simple prototype of the game:"
   ]
  },
  {
   "cell_type": "code",
   "execution_count": 16,
   "id": "e5b05c7d",
   "metadata": {},
   "outputs": [
    {
     "name": "stdout",
     "output_type": "stream",
     "text": [
      "*** User 2 won the match! ***\n",
      "\n",
      "0  -  1  -  1\n",
      "|  \\  |  /  |\n",
      "2  -  2  -  2\n",
      "|  /  |  \\  |\n",
      "0  -  1  -  0\n"
     ]
    }
   ],
   "source": [
    "grid = TapatanGrid()\n",
    "\n",
    "user = WHITE\n",
    "while not grid.win(user):\n",
    "    clear_output()\n",
    "\n",
    "    print(f'Usuário {user}')\n",
    "    print(grid)\n",
    "    print()\n",
    "\n",
    "    user = BLACK if user == WHITE else WHITE\n",
    "    if user == BLACK:\n",
    "        start = tuple(int(c) for c in input(f'Enter the starting position [{user}]='))\n",
    "        final = tuple(int(c) for c in input(f'Enter the end position      [{user}]='))\n",
    "    else:\n",
    "        _, (start, final) = minimax(grid.grid, DEPTH)\n",
    "\n",
    "    grid.move(user, start, final)\n",
    "\n",
    "clear_output()\n",
    "\n",
    "print(f'*** User {user} won the match! ***')\n",
    "print()\n",
    "print(grid)"
   ]
  }
 ],
 "metadata": {
  "kernelspec": {
   "display_name": "Python 3 (ipykernel)",
   "language": "python",
   "name": "python3"
  },
  "language_info": {
   "codemirror_mode": {
    "name": "ipython",
    "version": 3
   },
   "file_extension": ".py",
   "mimetype": "text/x-python",
   "name": "python",
   "nbconvert_exporter": "python",
   "pygments_lexer": "ipython3",
   "version": "3.11.4"
  }
 },
 "nbformat": 4,
 "nbformat_minor": 5
}
