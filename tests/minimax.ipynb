{
 "cells": [
  {
   "cell_type": "markdown",
   "id": "881a3fc7",
   "metadata": {},
   "source": [
    "# TAPATAN"
   ]
  },
  {
   "cell_type": "markdown",
   "id": "b18e9582",
   "metadata": {},
   "source": [
    "## STANDARD FORMULATION"
   ]
  },
  {
   "cell_type": "code",
   "execution_count": 1,
   "id": "7e7cffe2",
   "metadata": {},
   "outputs": [],
   "source": [
    "import sys\n",
    "import numpy as np\n",
    "from IPython.display import clear_output\n",
    "\n",
    "sys.path.append('../')\n",
    "\n",
    "from tapatan.constants import BLACK, WHITE\n",
    "from tapatan.logic_game import TapatanGrid\n",
    "from tapatan.formulations import new_grid, available_moves_user, move, win"
   ]
  },
  {
   "cell_type": "code",
   "execution_count": 2,
   "id": "e4c4b598",
   "metadata": {},
   "outputs": [],
   "source": [
    "# Declaring auxiliary functions\n",
    "\n",
    "def grid2board(grid):\n",
    "    return '  -  '.join(map(str, grid[0])) + '\\n' + \\\n",
    "           '|  \\  |  /  |'                 + '\\n' + \\\n",
    "           '  -  '.join(map(str, grid[1])) + '\\n' + \\\n",
    "           '|  /  |  \\  |'                 + '\\n' + \\\n",
    "           '  -  '.join(map(str, grid[2]))\n",
    "\n",
    "def get_new_state(state, user, start, final):\n",
    "    new_state = state.copy()\n",
    "    \n",
    "    new_state[start] = 0\n",
    "    new_state[final] = user\n",
    "\n",
    "    return new_state\n",
    "\n",
    "# Declaring the evaluation function\n",
    "# MAX -> White pieces\n",
    "# MIN -> Black pieces\n",
    "\n",
    "def evaluate(state):\n",
    "    score = 0\n",
    "    \n",
    "    if win(state, WHITE):\n",
    "        score = +1\n",
    "    elif win(state, BLACK):\n",
    "        score = -1\n",
    "\n",
    "    return score"
   ]
  },
  {
   "cell_type": "code",
   "execution_count": 3,
   "id": "cf341e7d",
   "metadata": {},
   "outputs": [
    {
     "name": "stdout",
     "output_type": "stream",
     "text": [
      "Expected evaluation = 1\n",
      "Evaluation obtained = 1\n",
      "0  -  1  -  2\n",
      "|  \\  |  /  |\n",
      "0  -  2  -  1\n",
      "|  /  |  \\  |\n",
      "2  -  1  -  0\n",
      "\n",
      "Expected evaluation = 0\n",
      "Evaluation obtained = 0\n",
      "1  -  0  -  2\n",
      "|  \\  |  /  |\n",
      "2  -  0  -  1\n",
      "|  /  |  \\  |\n",
      "1  -  0  -  2\n",
      "\n",
      "Expected evaluation = -1\n",
      "Evaluation obtained = -1\n",
      "0  -  0  -  2\n",
      "|  \\  |  /  |\n",
      "1  -  1  -  1\n",
      "|  /  |  \\  |\n",
      "2  -  0  -  2\n"
     ]
    }
   ],
   "source": [
    "# Testing the evaluation function\n",
    "\n",
    "grid_win  = new_grid()\n",
    "grid_lose = new_grid()\n",
    "grid_tie  = new_grid()\n",
    "\n",
    "move(grid_win, BLACK, (0, 0), (0, 1))\n",
    "move(grid_win, WHITE, (2, 2), (1, 1))\n",
    "move(grid_win, BLACK, (2, 0), (2, 1))\n",
    "move(grid_win, WHITE, (1, 0), (2, 0))\n",
    "\n",
    "move(grid_lose, BLACK, (2, 0), (1, 1))\n",
    "move(grid_lose, WHITE, (1, 0), (2, 0))\n",
    "move(grid_lose, BLACK, (0, 0), (1, 0))\n",
    "\n",
    "\n",
    "print('Expected evaluation = 1')\n",
    "print('Evaluation obtained =', evaluate(grid_win))\n",
    "print(grid2board(grid_win))\n",
    "\n",
    "print()\n",
    "\n",
    "print('Expected evaluation = 0')\n",
    "print('Evaluation obtained =', evaluate(grid_tie))\n",
    "print(grid2board(grid_tie))\n",
    "\n",
    "print()\n",
    "\n",
    "print('Expected evaluation = -1')\n",
    "print('Evaluation obtained =', evaluate(grid_lose))\n",
    "print(grid2board(grid_lose))"
   ]
  },
  {
   "cell_type": "markdown",
   "id": "393835cc",
   "metadata": {},
   "source": [
    "## MINIMAX SEARCH"
   ]
  },
  {
   "cell_type": "code",
   "execution_count": 4,
   "id": "38e264a2",
   "metadata": {},
   "outputs": [],
   "source": [
    "# Creating the minimax algorithm\n",
    "\n",
    "def minimax(state, depth):\n",
    "    return max_value(state, depth)\n",
    "    \n",
    "def max_value(state, depth):\n",
    "    value = evaluate(state)\n",
    "    \n",
    "    if value or not depth:\n",
    "        return value, None\n",
    "\n",
    "    max_eval = float('-inf')\n",
    "    for action in available_moves_user(state, WHITE):\n",
    "        cur_eval, _ = min_value(get_new_state(state, WHITE, *action), depth - 1)\n",
    "        \n",
    "        if cur_eval > max_eval:\n",
    "            max_eval, movement = cur_eval, action\n",
    "            \n",
    "    return max_eval, movement\n",
    "\n",
    "def min_value(state, depth):\n",
    "    value = evaluate(state)\n",
    "    \n",
    "    if value or not depth:\n",
    "        return value, None\n",
    "\n",
    "    min_eval = float('inf')\n",
    "    for action in available_moves_user(state, BLACK):\n",
    "        cur_eval, _ = max_value(get_new_state(state, BLACK, *action), depth - 1)\n",
    "        \n",
    "        if cur_eval < min_eval:\n",
    "            min_eval, movement = cur_eval, action\n",
    "            \n",
    "    return min_eval, movement"
   ]
  },
  {
   "cell_type": "code",
   "execution_count": 5,
   "id": "9768f2d3",
   "metadata": {},
   "outputs": [
    {
     "name": "stdout",
     "output_type": "stream",
     "text": [
      "Expected movements:\n",
      "(0, 1) -> (0, 2)\n",
      "(2, 0) -> (2, 1)\n",
      "\n",
      "Evaluation obtained = 1\n",
      "Movement obtained   = (0, 1) -> (0, 2)\n"
     ]
    }
   ],
   "source": [
    "# Testing the minimax search\n",
    "\n",
    "MINIMAX_DEPTH = 6\n",
    "\n",
    "grid = np.array([[1, 2, 0],\n",
    "                 [0, 2, 1],\n",
    "                 [2, 0, 1]])\n",
    "\n",
    "evaluation, (start, end) = minimax(grid, MINIMAX_DEPTH)\n",
    "\n",
    "print('Expected movements:')\n",
    "print('(0, 1) -> (0, 2)')\n",
    "print('(2, 0) -> (2, 1)')\n",
    "\n",
    "print()\n",
    "\n",
    "print('Evaluation obtained =', evaluation)\n",
    "print('Movement obtained   =', start, '->', end)"
   ]
  },
  {
   "cell_type": "code",
   "execution_count": 6,
   "id": "bbff5ae4",
   "metadata": {},
   "outputs": [
    {
     "name": "stdout",
     "output_type": "stream",
     "text": [
      "No expected movements:\n",
      "(2, 2) -> (2, 1)\n",
      "\n",
      "Evaluation obtained = 0\n",
      "Movement obtained   = (0, 2) -> (0, 1)\n"
     ]
    }
   ],
   "source": [
    "grid = new_grid()\n",
    "\n",
    "move(grid, BLACK, (2, 0), (1, 1))\n",
    "\n",
    "evaluation, (start, end) = minimax(grid, MINIMAX_DEPTH)\n",
    "\n",
    "print('No expected movements:')\n",
    "print('(2, 2) -> (2, 1)')\n",
    "\n",
    "print()\n",
    "\n",
    "print('Evaluation obtained =', evaluation)\n",
    "print('Movement obtained   =', start, '->', end)"
   ]
  },
  {
   "cell_type": "code",
   "execution_count": 7,
   "id": "b7a8f5f9",
   "metadata": {},
   "outputs": [
    {
     "name": "stdout",
     "output_type": "stream",
     "text": [
      "Expected movements:\n",
      "(1, 1) -> (0, 2)\n",
      "\n",
      "Evaluation obtained = 0\n",
      "Movement obtained   = (1, 1) -> (0, 2)\n"
     ]
    }
   ],
   "source": [
    "grid = np.array([[2, 1, 0],\n",
    "                 [0, 2, 1],\n",
    "                 [0, 2, 1]])\n",
    "\n",
    "evaluation, (start, end) = minimax(grid, MINIMAX_DEPTH)\n",
    "\n",
    "print('Expected movements:')\n",
    "print('(1, 1) -> (0, 2)')\n",
    "\n",
    "print()\n",
    "\n",
    "print('Evaluation obtained =', evaluation)\n",
    "print('Movement obtained   =', start, '->', end)"
   ]
  },
  {
   "cell_type": "markdown",
   "id": "c4d7c199",
   "metadata": {},
   "source": [
    "## GAME PROTOTYPE"
   ]
  },
  {
   "cell_type": "code",
   "execution_count": 8,
   "id": "e5b05c7d",
   "metadata": {},
   "outputs": [
    {
     "name": "stdout",
     "output_type": "stream",
     "text": [
      "\n",
      "*** User 2 won the match! ***\n",
      "\n",
      "2  -  1  -  0\n",
      "|  \\  |  /  |\n",
      "0  -  2  -  1\n",
      "|  /  |  \\  |\n",
      "0  -  1  -  2\n"
     ]
    }
   ],
   "source": [
    "grid = TapatanGrid()\n",
    "\n",
    "user = BLACK\n",
    "while True:\n",
    "    clear_output()\n",
    "    \n",
    "    print(f'Usuário {user}')\n",
    "    print(grid)\n",
    "    print()\n",
    "    \n",
    "    if user == BLACK:\n",
    "        pos_start = tuple(int(c) for c in input(f'Enter the starting position [{user}]='))\n",
    "        pos_final = tuple(int(c) for c in input(f'Enter the end position      [{user}]='))\n",
    "    else:\n",
    "        _, (pos_start, pos_final) = minimax(grid.grid, MINIMAX_DEPTH)\n",
    "        \n",
    "    if grid.move(user, pos_start, pos_final):   \n",
    "        if grid.win(user):\n",
    "            break\n",
    "        else:\n",
    "            user = BLACK if user == WHITE else WHITE\n",
    "\n",
    "clear_output()\n",
    "\n",
    "print(f'\\n*** User {user} won the match! ***\\n')\n",
    "print(grid)"
   ]
  }
 ],
 "metadata": {
  "kernelspec": {
   "display_name": "Python 3 (ipykernel)",
   "language": "python",
   "name": "python3"
  },
  "language_info": {
   "codemirror_mode": {
    "name": "ipython",
    "version": 3
   },
   "file_extension": ".py",
   "mimetype": "text/x-python",
   "name": "python",
   "nbconvert_exporter": "python",
   "pygments_lexer": "ipython3",
   "version": "3.9.17"
  }
 },
 "nbformat": 4,
 "nbformat_minor": 5
}
